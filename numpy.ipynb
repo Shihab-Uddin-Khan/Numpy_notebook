{
 "cells": [
  {
   "cell_type": "code",
   "execution_count": 3,
   "id": "d495765c-173e-4ee1-b92b-9c02fef4c573",
   "metadata": {},
   "outputs": [
    {
     "name": "stdout",
     "output_type": "stream",
     "text": [
      "[1 2 3 4 4]\n"
     ]
    }
   ],
   "source": [
    "import numpy\n",
    "arr = numpy.array([1,2,3,4,4])\n",
    "print(arr)"
   ]
  },
  {
   "cell_type": "code",
   "execution_count": 4,
   "id": "9e91b21f-2ced-499b-be78-1513751f2360",
   "metadata": {},
   "outputs": [
    {
     "name": "stdout",
     "output_type": "stream",
     "text": [
      "[1 1 1]\n"
     ]
    }
   ],
   "source": [
    "import numpy as np\n",
    "arr = np.array([1,1,1])\n",
    "print(arr)"
   ]
  },
  {
   "cell_type": "code",
   "execution_count": 5,
   "id": "0e616a3c-6a6f-4d33-9657-7ffb252ad0c3",
   "metadata": {},
   "outputs": [
    {
     "name": "stdout",
     "output_type": "stream",
     "text": [
      "1.26.4\n"
     ]
    }
   ],
   "source": [
    "print (np.__version__)"
   ]
  },
  {
   "cell_type": "code",
   "execution_count": 9,
   "id": "68c62a69-986e-414b-a0f4-a40ced6eac46",
   "metadata": {},
   "outputs": [
    {
     "name": "stdout",
     "output_type": "stream",
     "text": [
      "[[ 2  3  4  5  5  5]\n",
      " [ 2  4  5 55 33  3]]\n",
      "2\n"
     ]
    }
   ],
   "source": [
    "arr1=np.array([[2,3,4,5,5,5],[2,4,5,55,33,3]])\n",
    "print(arr1)\n",
    "print(arr1.ndim)"
   ]
  },
  {
   "cell_type": "code",
   "execution_count": 11,
   "id": "b3f8b1ff-1d0a-43d6-9ef7-f50dd372c25e",
   "metadata": {},
   "outputs": [
    {
     "name": "stdout",
     "output_type": "stream",
     "text": [
      "6\n",
      "[2 3 5 6]\n"
     ]
    }
   ],
   "source": [
    "arr2=np.array([1,2,3,5,6,6,7,78])\n",
    "print(arr2[4])\n",
    "print(arr2[1:5])"
   ]
  },
  {
   "cell_type": "code",
   "execution_count": 12,
   "id": "deca9664-1ef0-432a-aa5b-bccdb727325b",
   "metadata": {},
   "outputs": [
    {
     "name": "stdout",
     "output_type": "stream",
     "text": [
      "[55  3  3]\n",
      "[3 3 3]\n"
     ]
    }
   ],
   "source": [
    "arr=np.array([3,3,3])\n",
    "x= arr.copy()\n",
    "arr[0]=55\n",
    "print(arr)\n",
    "print(x)\n",
    "# copy don't change the orignal array "
   ]
  },
  {
   "cell_type": "code",
   "execution_count": 13,
   "id": "30719e7e-edf4-46a2-9cc6-58e4ec847a7f",
   "metadata": {},
   "outputs": [
    {
     "name": "stdout",
     "output_type": "stream",
     "text": [
      "[42  2  3  4  5]\n",
      "[42  2  3  4  5]\n"
     ]
    }
   ],
   "source": [
    "import numpy as np\n",
    "\n",
    "arr = np.array([1, 2, 3, 4, 5])\n",
    "x = arr.view()\n",
    "arr[0] = 42\n",
    "\n",
    "print(arr)\n",
    "print(x)\n",
    "# on the other hand view  () change the orignal array show both of them "
   ]
  },
  {
   "cell_type": "code",
   "execution_count": 18,
   "id": "551e4b43-0745-43fe-9279-4df07d74de85",
   "metadata": {},
   "outputs": [
    {
     "name": "stdout",
     "output_type": "stream",
     "text": [
      "(2, 5)\n"
     ]
    }
   ],
   "source": [
    "arr = np.array([[1, 2, 3, 4, 5],[1,1,3,4,34]])\n",
    "print(arr.shape)\n",
    "#shape show the shape of the array"
   ]
  },
  {
   "cell_type": "code",
   "execution_count": 20,
   "id": "eaedf9a7-d0f7-438d-b75c-dbf24213142c",
   "metadata": {},
   "outputs": [
    {
     "name": "stdout",
     "output_type": "stream",
     "text": [
      "[1 2 3 4 5]\n",
      "[ 1  1  3  4 34]\n"
     ]
    }
   ],
   "source": [
    "arr = np.array([[1, 2, 3, 4, 5],[1,1,3,4,34]])\n",
    "for x in arr:\n",
    "    print(x)"
   ]
  },
  {
   "cell_type": "code",
   "execution_count": 21,
   "id": "34698082-bba9-476e-9d09-19123613686c",
   "metadata": {},
   "outputs": [
    {
     "name": "stdout",
     "output_type": "stream",
     "text": [
      "[1 2 3 4 5 1 2 3 4 5]\n"
     ]
    }
   ],
   "source": [
    "# joining numpy arrays\n",
    "arr1 = np.array([1, 2, 3, 4, 5])\n",
    "arr2 = np.array([1, 2, 3, 4, 5])\n",
    "\n",
    "arr=np.concatenate((arr1,arr2))\n",
    "print(arr)"
   ]
  },
  {
   "cell_type": "code",
   "execution_count": 23,
   "id": "4ccaaf63-ea6b-4952-a3d5-9aa4d65ecc66",
   "metadata": {},
   "outputs": [
    {
     "name": "stdout",
     "output_type": "stream",
     "text": [
      "[[ 1  2  3  4  5]\n",
      " [ 1  1  3  4 34]\n",
      " [ 1  2  3  4  5]\n",
      " [ 1  1  3  4 34]]\n"
     ]
    }
   ],
   "source": [
    "arr1 = np.array([[1, 2, 3, 4, 5],[1,1,3,4,34]])\n",
    "arr2 = np.array([[1, 2, 3, 4, 5],[1,1,3,4,34]])\n",
    "arr=np.concatenate((arr1,arr2))\n",
    "print(arr)\n",
    "# array can be joined by stack() funtion only difference stacking is done along a new axis"
   ]
  },
  {
   "cell_type": "code",
   "execution_count": 24,
   "id": "9abcc689-1f84-4fe7-b7c6-a13a6ffc1c3b",
   "metadata": {},
   "outputs": [
    {
     "name": "stdout",
     "output_type": "stream",
     "text": [
      "[ 3  4  4  5  5  5 44  3 33  3  3  3]\n",
      "[array([3, 4, 4]), array([5, 5, 5]), array([44,  3]), array([33,  3]), array([3, 3])]\n"
     ]
    }
   ],
   "source": [
    "# splitting Numpy arrays( array_split() )\n",
    "import numpy as np \n",
    "arr = np.array ([3,4,4,5,5,5,44,3,33,3,3,3])\n",
    "newarr = np.array_split(arr,5)\n",
    "\n",
    "print(arr)\n",
    "print(newarr)\n"
   ]
  },
  {
   "cell_type": "code",
   "execution_count": 25,
   "id": "a4538a11-6fa9-4a05-a095-2461aa4da2a6",
   "metadata": {},
   "outputs": [
    {
     "name": "stdout",
     "output_type": "stream",
     "text": [
      "(array([3, 4, 5], dtype=int64),)\n"
     ]
    }
   ],
   "source": [
    "# Numpy searching arrays(where())\n",
    "arr = np.array ([3,4,4,5,5,5,44,3,33,3,3,3])\n",
    "newarr = np.where(arr==5)\n",
    "\n",
    "\n",
    "print(newarr)\n"
   ]
  },
  {
   "cell_type": "code",
   "execution_count": 26,
   "id": "c1be9e11-913b-4178-9288-679b1cdce7be",
   "metadata": {},
   "outputs": [
    {
     "name": "stdout",
     "output_type": "stream",
     "text": [
      "[ 3  3  3  3  3  3  3  4  4  4 55]\n"
     ]
    }
   ],
   "source": [
    "# sorting of arrays (sort())\n",
    "arr=np.array([3,3,3,3,3,3,3,4,4,55,4])\n",
    "print(np.sort(arr))\n"
   ]
  },
  {
   "cell_type": "code",
   "execution_count": 27,
   "id": "477bf915-f299-4a33-8c03-d3d852e4175c",
   "metadata": {},
   "outputs": [
    {
     "name": "stdout",
     "output_type": "stream",
     "text": [
      "[False, False, True, True]\n",
      "[43 44]\n"
     ]
    }
   ],
   "source": [
    "# filtering in array \n",
    "import numpy as np\n",
    "\n",
    "arr = np.array([41, 42, 43, 44])\n",
    "\n",
    "# Create an empty list\n",
    "filter_arr = []\n",
    "\n",
    "# go through each element in arr\n",
    "for element in arr:\n",
    "  # if the element is higher than 42, set the value to True, otherwise False:\n",
    "  if element > 42:\n",
    "    filter_arr.append(True)\n",
    "  else:\n",
    "    filter_arr.append(False)\n",
    "\n",
    "newarr = arr[filter_arr]\n",
    "\n",
    "print(filter_arr)\n",
    "print(newarr)\n"
   ]
  },
  {
   "cell_type": "code",
   "execution_count": 30,
   "id": "f23ade80-8b6d-4fb3-b688-ce5cdb804d64",
   "metadata": {},
   "outputs": [
    {
     "name": "stdout",
     "output_type": "stream",
     "text": [
      "16 0.11533538877823557\n"
     ]
    }
   ],
   "source": [
    "from numpy import random \n",
    "x= random.randint(100)\n",
    "y=random.rand()\n",
    "print(x,y)"
   ]
  },
  {
   "cell_type": "code",
   "execution_count": null,
   "id": "6c64ded9-585e-4f2c-b1a6-0c75756764a0",
   "metadata": {},
   "outputs": [],
   "source": []
  }
 ],
 "metadata": {
  "kernelspec": {
   "display_name": "Python 3 (ipykernel)",
   "language": "python",
   "name": "python3"
  },
  "language_info": {
   "codemirror_mode": {
    "name": "ipython",
    "version": 3
   },
   "file_extension": ".py",
   "mimetype": "text/x-python",
   "name": "python",
   "nbconvert_exporter": "python",
   "pygments_lexer": "ipython3",
   "version": "3.12.7"
  }
 },
 "nbformat": 4,
 "nbformat_minor": 5
}
